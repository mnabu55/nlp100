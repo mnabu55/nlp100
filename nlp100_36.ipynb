{
 "cells": [
  {
   "cell_type": "code",
   "execution_count": null,
   "metadata": {
    "collapsed": true
   },
   "outputs": [],
   "source": [
    "#!pip install MeCab\n",
    "#!pip install ipykernel\n",
    "#!pip install mecab-python-windows --user"
   ]
  },
  {
   "cell_type": "code",
   "execution_count": null,
   "metadata": {},
   "outputs": [],
   "source": [
    "!dir"
   ]
  },
  {
   "cell_type": "code",
   "execution_count": 21,
   "metadata": {
    "collapsed": true
   },
   "outputs": [],
   "source": [
    "import matplotlib.pyplot as plt\n",
    "%matplotlib inline"
   ]
  },
  {
   "cell_type": "code",
   "execution_count": 1,
   "metadata": {},
   "outputs": [
    {
     "name": "stdout",
     "output_type": "stream",
     "text": [
      "4\n"
     ]
    }
   ],
   "source": [
    "with open('./in/sample.txt',) as f:\n",
    "    print(len([r for r in f.read().split('\\n') if r is not '']))"
   ]
  },
  {
   "cell_type": "code",
   "execution_count": 2,
   "metadata": {},
   "outputs": [
    {
     "name": "stdout",
     "output_type": "stream",
     "text": [
      "['このパーソナルデータリファレンスアーキテクチャ(設計)書(以下\\u3000本書)は、パーソナルデータを扱う全ての事業者、ステークホルダが、ビジネスモデルや内部統制などのシステム設計を行うためのガイドとなる設計書である。', '本書の示す手順により、各事業者が自らの事業のアーキテクチャを設計・整理することで、パーソナルデータの取り扱いの適正性や潜在する課題を顕在化し、適切なパーソナルデータの利活用モデルが構築されることを期待している。', '加えて、本書は、特定の事業分野、事業内容に限定することなく、パーソナルデータを取り扱う事業の共通要件を示している。このため、異分野の事業であっても、本書に従って設計される共用のアーキテクチャを持つことにより、異分野間でのデータ共有を推進する一助となることも期待されている。', '僕は走る。']\n"
     ]
    }
   ],
   "source": [
    "with open('./in/sample.txt',) as f:\n",
    "    print([r.replace('\\t', ' ') for r in f.read().split('\\n') if r is not ''])"
   ]
  },
  {
   "cell_type": "code",
   "execution_count": 6,
   "metadata": {},
   "outputs": [],
   "source": [
    "import MeCab\n",
    "t = MeCab.Tagger()\n",
    "#with open('./in/neko.txt', encoding=) as f:\n",
    "with open('./in/sample.txt') as f:\n",
    "    text = f.read()\n",
    "    \n",
    "#with open('./in/sample.txt.mecab', mode='w') as f:\n",
    "with open('./in/sample.txt.mecab', mode='w') as f:\n",
    "    f.write(t.parse(text))"
   ]
  },
  {
   "cell_type": "code",
   "execution_count": null,
   "metadata": {
    "collapsed": true
   },
   "outputs": [],
   "source": []
  },
  {
   "cell_type": "code",
   "execution_count": 7,
   "metadata": {},
   "outputs": [
    {
     "data": {
      "text/plain": [
       "[('僕は走る。', 1),\n",
       " ('本書の示す手順により、各事業者が自らの事業のアーキテクチャを設計・整理することで、パーソナルデータの取り扱いの適正性や潜在する課題を顕在化し、適切なパーソナルデータの利活用モデルが構築されることを期待している。',\n",
       "  1),\n",
       " ('加えて、本書は、特定の事業分野、事業内容に限定することなく、パーソナルデータを取り扱う事業の共通要件を示している。このため、異分野の事業であっても、本書に従って設計される共用のアーキテクチャを持つことにより、異分野間でのデータ共有を推進する一助となることも期待されている。',\n",
       "  1),\n",
       " ('このパーソナルデータリファレンスアーキテクチャ(設計)書(以下\\u3000本書)は、パーソナルデータを扱う全ての事業者、ステークホルダが、ビジネスモデルや内部統制などのシステム設計を行うためのガイドとなる設計書である。',\n",
       "  1)]"
      ]
     },
     "execution_count": 7,
     "metadata": {},
     "output_type": "execute_result"
    }
   ],
   "source": [
    "with open('./in/sample.txt') as f:\n",
    "    obj = f.read()\n",
    "\n",
    "rows =[row.split('\\t')[0] for row in obj.split('\\n') if not row =='']\n",
    "c_dic= {}\n",
    "for k in set(rows):\n",
    "    c_dic[k] = rows.count(k)\n",
    "sorted(c_dic.items(), key=lambda x: -x[1])"
   ]
  },
  {
   "cell_type": "code",
   "execution_count": null,
   "metadata": {
    "collapsed": true
   },
   "outputs": [],
   "source": []
  },
  {
   "cell_type": "code",
   "execution_count": null,
   "metadata": {},
   "outputs": [],
   "source": [
    "base_list = []\n",
    "count_dic = {}\n",
    "for s in doc:\n",
    "    for t in s:\n",
    "        base_list.append(t['base'])\n",
    "for word in set(base_list):\n",
    "    count_dic[word] = base_list.count(word)\n",
    "sorted(count_dic.items(), key=lambda x: -x[1])"
   ]
  },
  {
   "cell_type": "code",
   "execution_count": null,
   "metadata": {
    "collapsed": true
   },
   "outputs": [],
   "source": []
  },
  {
   "cell_type": "code",
   "execution_count": 9,
   "metadata": {},
   "outputs": [
    {
     "name": "stdout",
     "output_type": "stream",
     "text": [
      "この パーソナルデータリファレンスアーキテクチャ ( 設計 ) 書 ( 以下 　 本書 ) は 、 パーソナル データ を 扱う 全て の 事業 者 、 ステークホルダ が 、 ビジネス モデル や 内部 統制 など の システム 設計 を 行う ため の ガイド と なる 設計 書 で ある 。 本書 の 示す 手順 により 、 各 事業 者 が 自ら の 事業 の アーキテクチャ を 設計 ・ 整理 する こと で 、 パーソナル データ の 取り扱い の 適正 性 や 潜在 する 課題 を 顕在 化 し 、 適切 な パーソナル データ の 利 活用 モデル が 構築 さ れる こと を 期待 し て いる 。 加え て 、 本書 は 、 特定 の 事業 分野 、 事業 内容 に 限定 する こと なく 、 パーソナル データ を 取り扱う 事業 の 共通 要件 を 示し て いる 。 この ため 、 異 分野 の 事業 で あっ て も 、 本書 に従って 設計 さ れる 共用 の アーキテクチャ を 持つ こと により 、 異 分野 間 で の データ 共有 を 推進 する 一助 と なる こと も 期待 さ れ て いる 。 僕 は 走る 。\n"
     ]
    }
   ],
   "source": [
    "d = {}\n",
    "\n",
    "doc = []\n",
    "\n",
    "with open(\"./in/sample.txt.mecab\") as f:\n",
    "    lines = f.readlines()\n",
    "    sentense = []\n",
    "    for line in lines:\n",
    "        line = line[:-1]\n",
    "        if line == \"EOS\":\n",
    "            if len(sentense) > 0:\n",
    "                doc.append(sentense)\n",
    "            sentense = []\n",
    "            continue\n",
    "\n",
    "        surface, rest = line.split(\"\\t\")\n",
    "        rest = rest.split(\",\")\n",
    "\n",
    "        assert len(rest) >= 6\n",
    "        pos, pos1, base = rest[0], rest[1], rest[6]\n",
    "\n",
    "        key = (surface, base, pos, pos1)\n",
    "        d[key] = surface\n",
    "        sentense.append(key)\n",
    "\n",
    "for s in doc[:20]:\n",
    "    # print(s)\n",
    "    # wakachi for readability\n",
    "    print(\" \".join(map(lambda x: x[0], s)))"
   ]
  },
  {
   "cell_type": "code",
   "execution_count": 10,
   "metadata": {},
   "outputs": [
    {
     "data": {
      "text/plain": [
       "[[('この', 'この', '連体詞', '*'),\n",
       "  ('パーソナルデータリファレンスアーキテクチャ', '*', '名詞', '一般'),\n",
       "  ('(', '*', '名詞', 'サ変接続'),\n",
       "  ('設計', '設計', '名詞', 'サ変接続'),\n",
       "  (')', '*', '名詞', 'サ変接続'),\n",
       "  ('書', '書', '名詞', '接尾'),\n",
       "  ('(', '*', '名詞', 'サ変接続'),\n",
       "  ('以下', '以下', '名詞', '非自立'),\n",
       "  ('\\u3000', '\\u3000', '記号', '空白'),\n",
       "  ('本書', '本書', '名詞', '一般'),\n",
       "  (')', '*', '名詞', 'サ変接続'),\n",
       "  ('は', 'は', '助詞', '係助詞'),\n",
       "  ('、', '、', '記号', '読点'),\n",
       "  ('パーソナル', 'パーソナル', '名詞', '一般'),\n",
       "  ('データ', 'データ', '名詞', '一般'),\n",
       "  ('を', 'を', '助詞', '格助詞'),\n",
       "  ('扱う', '扱う', '動詞', '自立'),\n",
       "  ('全て', '全て', '名詞', '副詞可能'),\n",
       "  ('の', 'の', '助詞', '連体化'),\n",
       "  ('事業', '事業', '名詞', '一般'),\n",
       "  ('者', '者', '名詞', '接尾'),\n",
       "  ('、', '、', '記号', '読点'),\n",
       "  ('ステークホルダ', '*', '名詞', '一般'),\n",
       "  ('が', 'が', '助詞', '格助詞'),\n",
       "  ('、', '、', '記号', '読点'),\n",
       "  ('ビジネス', 'ビジネス', '名詞', '一般'),\n",
       "  ('モデル', 'モデル', '名詞', '一般'),\n",
       "  ('や', 'や', '助詞', '並立助詞'),\n",
       "  ('内部', '内部', '名詞', '一般'),\n",
       "  ('統制', '統制', '名詞', 'サ変接続'),\n",
       "  ('など', 'など', '助詞', '副助詞'),\n",
       "  ('の', 'の', '助詞', '連体化'),\n",
       "  ('システム', 'システム', '名詞', '一般'),\n",
       "  ('設計', '設計', '名詞', 'サ変接続'),\n",
       "  ('を', 'を', '助詞', '格助詞'),\n",
       "  ('行う', '行う', '動詞', '自立'),\n",
       "  ('ため', 'ため', '名詞', '非自立'),\n",
       "  ('の', 'の', '助詞', '連体化'),\n",
       "  ('ガイド', 'ガイド', '名詞', 'サ変接続'),\n",
       "  ('と', 'と', '助詞', '格助詞'),\n",
       "  ('なる', 'なる', '動詞', '自立'),\n",
       "  ('設計', '設計', '名詞', 'サ変接続'),\n",
       "  ('書', '書', '名詞', '接尾'),\n",
       "  ('で', 'だ', '助動詞', '*'),\n",
       "  ('ある', 'ある', '助動詞', '*'),\n",
       "  ('。', '。', '記号', '句点'),\n",
       "  ('本書', '本書', '名詞', '一般'),\n",
       "  ('の', 'の', '助詞', '格助詞'),\n",
       "  ('示す', '示す', '動詞', '自立'),\n",
       "  ('手順', '手順', '名詞', '一般'),\n",
       "  ('により', 'により', '助詞', '格助詞'),\n",
       "  ('、', '、', '記号', '読点'),\n",
       "  ('各', '各', '接頭詞', '名詞接続'),\n",
       "  ('事業', '事業', '名詞', '一般'),\n",
       "  ('者', '者', '名詞', '接尾'),\n",
       "  ('が', 'が', '助詞', '格助詞'),\n",
       "  ('自ら', '自ら', '名詞', '副詞可能'),\n",
       "  ('の', 'の', '助詞', '連体化'),\n",
       "  ('事業', '事業', '名詞', '一般'),\n",
       "  ('の', 'の', '助詞', '連体化'),\n",
       "  ('アーキテクチャ', 'アーキテクチャ', '名詞', '一般'),\n",
       "  ('を', 'を', '助詞', '格助詞'),\n",
       "  ('設計', '設計', '名詞', 'サ変接続'),\n",
       "  ('・', '・', '記号', '一般'),\n",
       "  ('整理', '整理', '名詞', 'サ変接続'),\n",
       "  ('する', 'する', '動詞', '自立'),\n",
       "  ('こと', 'こと', '名詞', '非自立'),\n",
       "  ('で', 'だ', '助動詞', '*'),\n",
       "  ('、', '、', '記号', '読点'),\n",
       "  ('パーソナル', 'パーソナル', '名詞', '一般'),\n",
       "  ('データ', 'データ', '名詞', '一般'),\n",
       "  ('の', 'の', '助詞', '連体化'),\n",
       "  ('取り扱い', '取り扱い', '名詞', '一般'),\n",
       "  ('の', 'の', '助詞', '連体化'),\n",
       "  ('適正', '適正', '名詞', '形容動詞語幹'),\n",
       "  ('性', '性', '名詞', '接尾'),\n",
       "  ('や', 'や', '助詞', '並立助詞'),\n",
       "  ('潜在', '潜在', '名詞', 'サ変接続'),\n",
       "  ('する', 'する', '動詞', '自立'),\n",
       "  ('課題', '課題', '名詞', '一般'),\n",
       "  ('を', 'を', '助詞', '格助詞'),\n",
       "  ('顕在', '顕在', '名詞', 'サ変接続'),\n",
       "  ('化', '化', '名詞', '接尾'),\n",
       "  ('し', 'する', '動詞', '自立'),\n",
       "  ('、', '、', '記号', '読点'),\n",
       "  ('適切', '適切', '名詞', '形容動詞語幹'),\n",
       "  ('な', 'だ', '助動詞', '*'),\n",
       "  ('パーソナル', 'パーソナル', '名詞', '一般'),\n",
       "  ('データ', 'データ', '名詞', '一般'),\n",
       "  ('の', 'の', '助詞', '連体化'),\n",
       "  ('利', '利', '名詞', '一般'),\n",
       "  ('活用', '活用', '名詞', 'サ変接続'),\n",
       "  ('モデル', 'モデル', '名詞', '一般'),\n",
       "  ('が', 'が', '助詞', '格助詞'),\n",
       "  ('構築', '構築', '名詞', 'サ変接続'),\n",
       "  ('さ', 'する', '動詞', '自立'),\n",
       "  ('れる', 'れる', '動詞', '接尾'),\n",
       "  ('こと', 'こと', '名詞', '非自立'),\n",
       "  ('を', 'を', '助詞', '格助詞'),\n",
       "  ('期待', '期待', '名詞', 'サ変接続'),\n",
       "  ('し', 'する', '動詞', '自立'),\n",
       "  ('て', 'て', '助詞', '接続助詞'),\n",
       "  ('いる', 'いる', '動詞', '非自立'),\n",
       "  ('。', '。', '記号', '句点'),\n",
       "  ('加え', '加える', '動詞', '自立'),\n",
       "  ('て', 'て', '助詞', '接続助詞'),\n",
       "  ('、', '、', '記号', '読点'),\n",
       "  ('本書', '本書', '名詞', '一般'),\n",
       "  ('は', 'は', '助詞', '係助詞'),\n",
       "  ('、', '、', '記号', '読点'),\n",
       "  ('特定', '特定', '名詞', 'サ変接続'),\n",
       "  ('の', 'の', '助詞', '連体化'),\n",
       "  ('事業', '事業', '名詞', '一般'),\n",
       "  ('分野', '分野', '名詞', '一般'),\n",
       "  ('、', '、', '記号', '読点'),\n",
       "  ('事業', '事業', '名詞', '一般'),\n",
       "  ('内容', '内容', '名詞', '一般'),\n",
       "  ('に', 'に', '助詞', '格助詞'),\n",
       "  ('限定', '限定', '名詞', 'サ変接続'),\n",
       "  ('する', 'する', '動詞', '自立'),\n",
       "  ('こと', 'こと', '名詞', '非自立'),\n",
       "  ('なく', 'ない', '形容詞', '自立'),\n",
       "  ('、', '、', '記号', '読点'),\n",
       "  ('パーソナル', 'パーソナル', '名詞', '一般'),\n",
       "  ('データ', 'データ', '名詞', '一般'),\n",
       "  ('を', 'を', '助詞', '格助詞'),\n",
       "  ('取り扱う', '取り扱う', '動詞', '自立'),\n",
       "  ('事業', '事業', '名詞', '一般'),\n",
       "  ('の', 'の', '助詞', '連体化'),\n",
       "  ('共通', '共通', '名詞', 'サ変接続'),\n",
       "  ('要件', '要件', '名詞', '一般'),\n",
       "  ('を', 'を', '助詞', '格助詞'),\n",
       "  ('示し', '示す', '動詞', '自立'),\n",
       "  ('て', 'て', '助詞', '接続助詞'),\n",
       "  ('いる', 'いる', '動詞', '非自立'),\n",
       "  ('。', '。', '記号', '句点'),\n",
       "  ('この', 'この', '連体詞', '*'),\n",
       "  ('ため', 'ため', '名詞', '非自立'),\n",
       "  ('、', '、', '記号', '読点'),\n",
       "  ('異', '異', '接頭詞', '名詞接続'),\n",
       "  ('分野', '分野', '名詞', '一般'),\n",
       "  ('の', 'の', '助詞', '連体化'),\n",
       "  ('事業', '事業', '名詞', '一般'),\n",
       "  ('で', 'だ', '助動詞', '*'),\n",
       "  ('あっ', 'ある', '助動詞', '*'),\n",
       "  ('て', 'て', '助詞', '接続助詞'),\n",
       "  ('も', 'も', '助詞', '係助詞'),\n",
       "  ('、', '、', '記号', '読点'),\n",
       "  ('本書', '本書', '名詞', '一般'),\n",
       "  ('に従って', 'に従って', '助詞', '格助詞'),\n",
       "  ('設計', '設計', '名詞', 'サ変接続'),\n",
       "  ('さ', 'する', '動詞', '自立'),\n",
       "  ('れる', 'れる', '動詞', '接尾'),\n",
       "  ('共用', '共用', '名詞', 'サ変接続'),\n",
       "  ('の', 'の', '助詞', '連体化'),\n",
       "  ('アーキテクチャ', 'アーキテクチャ', '名詞', '一般'),\n",
       "  ('を', 'を', '助詞', '格助詞'),\n",
       "  ('持つ', '持つ', '動詞', '自立'),\n",
       "  ('こと', 'こと', '名詞', '非自立'),\n",
       "  ('により', 'により', '助詞', '格助詞'),\n",
       "  ('、', '、', '記号', '読点'),\n",
       "  ('異', '異', '接頭詞', '名詞接続'),\n",
       "  ('分野', '分野', '名詞', '一般'),\n",
       "  ('間', '間', '名詞', '接尾'),\n",
       "  ('で', 'で', '助詞', '格助詞'),\n",
       "  ('の', 'の', '助詞', '連体化'),\n",
       "  ('データ', 'データ', '名詞', '一般'),\n",
       "  ('共有', '共有', '名詞', 'サ変接続'),\n",
       "  ('を', 'を', '助詞', '格助詞'),\n",
       "  ('推進', '推進', '名詞', 'サ変接続'),\n",
       "  ('する', 'する', '動詞', '自立'),\n",
       "  ('一助', '一助', '名詞', '一般'),\n",
       "  ('と', 'と', '助詞', '格助詞'),\n",
       "  ('なる', 'なる', '動詞', '自立'),\n",
       "  ('こと', 'こと', '名詞', '非自立'),\n",
       "  ('も', 'も', '助詞', '係助詞'),\n",
       "  ('期待', '期待', '名詞', 'サ変接続'),\n",
       "  ('さ', 'する', '動詞', '自立'),\n",
       "  ('れ', 'れる', '動詞', '接尾'),\n",
       "  ('て', 'て', '助詞', '接続助詞'),\n",
       "  ('いる', 'いる', '動詞', '非自立'),\n",
       "  ('。', '。', '記号', '句点'),\n",
       "  ('僕', '僕', '名詞', '代名詞'),\n",
       "  ('は', 'は', '助詞', '係助詞'),\n",
       "  ('走る', '走る', '動詞', '自立'),\n",
       "  ('。', '。', '記号', '句点')]]"
      ]
     },
     "execution_count": 10,
     "metadata": {},
     "output_type": "execute_result"
    }
   ],
   "source": [
    "doc"
   ]
  },
  {
   "cell_type": "code",
   "execution_count": null,
   "metadata": {
    "collapsed": true
   },
   "outputs": [],
   "source": []
  },
  {
   "cell_type": "code",
   "execution_count": null,
   "metadata": {
    "collapsed": true
   },
   "outputs": [],
   "source": []
  },
  {
   "cell_type": "code",
   "execution_count": 14,
   "metadata": {},
   "outputs": [
    {
     "name": "stdout",
     "output_type": "stream",
     "text": [
      "[{'surface': 'この', 'base': 'この', 'pos': '連体詞', 'pos1': '*'}, {'surface': 'パーソナルデータリファレンスアーキテクチャ', 'base': '*\\n', 'pos': '名詞', 'pos1': '一般'}, {'surface': '(', 'base': '*\\n', 'pos': '名詞', 'pos1': 'サ変接続'}, {'surface': '設計', 'base': '設計', 'pos': '名詞', 'pos1': 'サ変接続'}, {'surface': ')', 'base': '*\\n', 'pos': '名詞', 'pos1': 'サ変接続'}, {'surface': '書', 'base': '書', 'pos': '名詞', 'pos1': '接尾'}, {'surface': '(', 'base': '*\\n', 'pos': '名詞', 'pos1': 'サ変接続'}, {'surface': '以下', 'base': '以下', 'pos': '名詞', 'pos1': '非自立'}, {'surface': '\\u3000', 'base': '\\u3000', 'pos': '記号', 'pos1': '空白'}, {'surface': '本書', 'base': '本書', 'pos': '名詞', 'pos1': '一般'}, {'surface': ')', 'base': '*\\n', 'pos': '名詞', 'pos1': 'サ変接続'}, {'surface': 'は', 'base': 'は', 'pos': '助詞', 'pos1': '係助詞'}, {'surface': '、', 'base': '、', 'pos': '記号', 'pos1': '読点'}, {'surface': 'パーソナル', 'base': 'パーソナル', 'pos': '名詞', 'pos1': '一般'}, {'surface': 'データ', 'base': 'データ', 'pos': '名詞', 'pos1': '一般'}, {'surface': 'を', 'base': 'を', 'pos': '助詞', 'pos1': '格助詞'}, {'surface': '扱う', 'base': '扱う', 'pos': '動詞', 'pos1': '自立'}, {'surface': '全て', 'base': '全て', 'pos': '名詞', 'pos1': '副詞可能'}, {'surface': 'の', 'base': 'の', 'pos': '助詞', 'pos1': '連体化'}, {'surface': '事業', 'base': '事業', 'pos': '名詞', 'pos1': '一般'}, {'surface': '者', 'base': '者', 'pos': '名詞', 'pos1': '接尾'}, {'surface': '、', 'base': '、', 'pos': '記号', 'pos1': '読点'}, {'surface': 'ステークホルダ', 'base': '*\\n', 'pos': '名詞', 'pos1': '一般'}, {'surface': 'が', 'base': 'が', 'pos': '助詞', 'pos1': '格助詞'}, {'surface': '、', 'base': '、', 'pos': '記号', 'pos1': '読点'}, {'surface': 'ビジネス', 'base': 'ビジネス', 'pos': '名詞', 'pos1': '一般'}, {'surface': 'モデル', 'base': 'モデル', 'pos': '名詞', 'pos1': '一般'}, {'surface': 'や', 'base': 'や', 'pos': '助詞', 'pos1': '並立助詞'}, {'surface': '内部', 'base': '内部', 'pos': '名詞', 'pos1': '一般'}, {'surface': '統制', 'base': '統制', 'pos': '名詞', 'pos1': 'サ変接続'}, {'surface': 'など', 'base': 'など', 'pos': '助詞', 'pos1': '副助詞'}, {'surface': 'の', 'base': 'の', 'pos': '助詞', 'pos1': '連体化'}, {'surface': 'システム', 'base': 'システム', 'pos': '名詞', 'pos1': '一般'}, {'surface': '設計', 'base': '設計', 'pos': '名詞', 'pos1': 'サ変接続'}, {'surface': 'を', 'base': 'を', 'pos': '助詞', 'pos1': '格助詞'}, {'surface': '行う', 'base': '行う', 'pos': '動詞', 'pos1': '自立'}, {'surface': 'ため', 'base': 'ため', 'pos': '名詞', 'pos1': '非自立'}, {'surface': 'の', 'base': 'の', 'pos': '助詞', 'pos1': '連体化'}, {'surface': 'ガイド', 'base': 'ガイド', 'pos': '名詞', 'pos1': 'サ変接続'}, {'surface': 'と', 'base': 'と', 'pos': '助詞', 'pos1': '格助詞'}, {'surface': 'なる', 'base': 'なる', 'pos': '動詞', 'pos1': '自立'}, {'surface': '設計', 'base': '設計', 'pos': '名詞', 'pos1': 'サ変接続'}, {'surface': '書', 'base': '書', 'pos': '名詞', 'pos1': '接尾'}, {'surface': 'で', 'base': 'だ', 'pos': '助動詞', 'pos1': '*'}, {'surface': 'ある', 'base': 'ある', 'pos': '助動詞', 'pos1': '*'}, {'surface': '。', 'base': '。', 'pos': '記号', 'pos1': '句点'}]\n",
      "[{'surface': '本書', 'base': '本書', 'pos': '名詞', 'pos1': '一般'}, {'surface': 'の', 'base': 'の', 'pos': '助詞', 'pos1': '格助詞'}, {'surface': '示す', 'base': '示す', 'pos': '動詞', 'pos1': '自立'}, {'surface': '手順', 'base': '手順', 'pos': '名詞', 'pos1': '一般'}, {'surface': 'により', 'base': 'により', 'pos': '助詞', 'pos1': '格助詞'}, {'surface': '、', 'base': '、', 'pos': '記号', 'pos1': '読点'}, {'surface': '各', 'base': '各', 'pos': '接頭詞', 'pos1': '名詞接続'}, {'surface': '事業', 'base': '事業', 'pos': '名詞', 'pos1': '一般'}, {'surface': '者', 'base': '者', 'pos': '名詞', 'pos1': '接尾'}, {'surface': 'が', 'base': 'が', 'pos': '助詞', 'pos1': '格助詞'}, {'surface': '自ら', 'base': '自ら', 'pos': '名詞', 'pos1': '副詞可能'}, {'surface': 'の', 'base': 'の', 'pos': '助詞', 'pos1': '連体化'}, {'surface': '事業', 'base': '事業', 'pos': '名詞', 'pos1': '一般'}, {'surface': 'の', 'base': 'の', 'pos': '助詞', 'pos1': '連体化'}, {'surface': 'アーキテクチャ', 'base': 'アーキテクチャ', 'pos': '名詞', 'pos1': '一般'}, {'surface': 'を', 'base': 'を', 'pos': '助詞', 'pos1': '格助詞'}, {'surface': '設計', 'base': '設計', 'pos': '名詞', 'pos1': 'サ変接続'}, {'surface': '・', 'base': '・', 'pos': '記号', 'pos1': '一般'}, {'surface': '整理', 'base': '整理', 'pos': '名詞', 'pos1': 'サ変接続'}, {'surface': 'する', 'base': 'する', 'pos': '動詞', 'pos1': '自立'}, {'surface': 'こと', 'base': 'こと', 'pos': '名詞', 'pos1': '非自立'}, {'surface': 'で', 'base': 'だ', 'pos': '助動詞', 'pos1': '*'}, {'surface': '、', 'base': '、', 'pos': '記号', 'pos1': '読点'}, {'surface': 'パーソナル', 'base': 'パーソナル', 'pos': '名詞', 'pos1': '一般'}, {'surface': 'データ', 'base': 'データ', 'pos': '名詞', 'pos1': '一般'}, {'surface': 'の', 'base': 'の', 'pos': '助詞', 'pos1': '連体化'}, {'surface': '取り扱い', 'base': '取り扱い', 'pos': '名詞', 'pos1': '一般'}, {'surface': 'の', 'base': 'の', 'pos': '助詞', 'pos1': '連体化'}, {'surface': '適正', 'base': '適正', 'pos': '名詞', 'pos1': '形容動詞語幹'}, {'surface': '性', 'base': '性', 'pos': '名詞', 'pos1': '接尾'}, {'surface': 'や', 'base': 'や', 'pos': '助詞', 'pos1': '並立助詞'}, {'surface': '潜在', 'base': '潜在', 'pos': '名詞', 'pos1': 'サ変接続'}, {'surface': 'する', 'base': 'する', 'pos': '動詞', 'pos1': '自立'}, {'surface': '課題', 'base': '課題', 'pos': '名詞', 'pos1': '一般'}, {'surface': 'を', 'base': 'を', 'pos': '助詞', 'pos1': '格助詞'}, {'surface': '顕在', 'base': '顕在', 'pos': '名詞', 'pos1': 'サ変接続'}, {'surface': '化', 'base': '化', 'pos': '名詞', 'pos1': '接尾'}, {'surface': 'し', 'base': 'する', 'pos': '動詞', 'pos1': '自立'}, {'surface': '、', 'base': '、', 'pos': '記号', 'pos1': '読点'}, {'surface': '適切', 'base': '適切', 'pos': '名詞', 'pos1': '形容動詞語幹'}, {'surface': 'な', 'base': 'だ', 'pos': '助動詞', 'pos1': '*'}, {'surface': 'パーソナル', 'base': 'パーソナル', 'pos': '名詞', 'pos1': '一般'}, {'surface': 'データ', 'base': 'データ', 'pos': '名詞', 'pos1': '一般'}, {'surface': 'の', 'base': 'の', 'pos': '助詞', 'pos1': '連体化'}, {'surface': '利', 'base': '利', 'pos': '名詞', 'pos1': '一般'}, {'surface': '活用', 'base': '活用', 'pos': '名詞', 'pos1': 'サ変接続'}, {'surface': 'モデル', 'base': 'モデル', 'pos': '名詞', 'pos1': '一般'}, {'surface': 'が', 'base': 'が', 'pos': '助詞', 'pos1': '格助詞'}, {'surface': '構築', 'base': '構築', 'pos': '名詞', 'pos1': 'サ変接続'}, {'surface': 'さ', 'base': 'する', 'pos': '動詞', 'pos1': '自立'}, {'surface': 'れる', 'base': 'れる', 'pos': '動詞', 'pos1': '接尾'}, {'surface': 'こと', 'base': 'こと', 'pos': '名詞', 'pos1': '非自立'}, {'surface': 'を', 'base': 'を', 'pos': '助詞', 'pos1': '格助詞'}, {'surface': '期待', 'base': '期待', 'pos': '名詞', 'pos1': 'サ変接続'}, {'surface': 'し', 'base': 'する', 'pos': '動詞', 'pos1': '自立'}, {'surface': 'て', 'base': 'て', 'pos': '助詞', 'pos1': '接続助詞'}, {'surface': 'いる', 'base': 'いる', 'pos': '動詞', 'pos1': '非自立'}, {'surface': '。', 'base': '。', 'pos': '記号', 'pos1': '句点'}]\n",
      "[{'surface': '加え', 'base': '加える', 'pos': '動詞', 'pos1': '自立'}, {'surface': 'て', 'base': 'て', 'pos': '助詞', 'pos1': '接続助詞'}, {'surface': '、', 'base': '、', 'pos': '記号', 'pos1': '読点'}, {'surface': '本書', 'base': '本書', 'pos': '名詞', 'pos1': '一般'}, {'surface': 'は', 'base': 'は', 'pos': '助詞', 'pos1': '係助詞'}, {'surface': '、', 'base': '、', 'pos': '記号', 'pos1': '読点'}, {'surface': '特定', 'base': '特定', 'pos': '名詞', 'pos1': 'サ変接続'}, {'surface': 'の', 'base': 'の', 'pos': '助詞', 'pos1': '連体化'}, {'surface': '事業', 'base': '事業', 'pos': '名詞', 'pos1': '一般'}, {'surface': '分野', 'base': '分野', 'pos': '名詞', 'pos1': '一般'}, {'surface': '、', 'base': '、', 'pos': '記号', 'pos1': '読点'}, {'surface': '事業', 'base': '事業', 'pos': '名詞', 'pos1': '一般'}, {'surface': '内容', 'base': '内容', 'pos': '名詞', 'pos1': '一般'}, {'surface': 'に', 'base': 'に', 'pos': '助詞', 'pos1': '格助詞'}, {'surface': '限定', 'base': '限定', 'pos': '名詞', 'pos1': 'サ変接続'}, {'surface': 'する', 'base': 'する', 'pos': '動詞', 'pos1': '自立'}, {'surface': 'こと', 'base': 'こと', 'pos': '名詞', 'pos1': '非自立'}, {'surface': 'なく', 'base': 'ない', 'pos': '形容詞', 'pos1': '自立'}, {'surface': '、', 'base': '、', 'pos': '記号', 'pos1': '読点'}, {'surface': 'パーソナル', 'base': 'パーソナル', 'pos': '名詞', 'pos1': '一般'}, {'surface': 'データ', 'base': 'データ', 'pos': '名詞', 'pos1': '一般'}, {'surface': 'を', 'base': 'を', 'pos': '助詞', 'pos1': '格助詞'}, {'surface': '取り扱う', 'base': '取り扱う', 'pos': '動詞', 'pos1': '自立'}, {'surface': '事業', 'base': '事業', 'pos': '名詞', 'pos1': '一般'}, {'surface': 'の', 'base': 'の', 'pos': '助詞', 'pos1': '連体化'}, {'surface': '共通', 'base': '共通', 'pos': '名詞', 'pos1': 'サ変接続'}, {'surface': '要件', 'base': '要件', 'pos': '名詞', 'pos1': '一般'}, {'surface': 'を', 'base': 'を', 'pos': '助詞', 'pos1': '格助詞'}, {'surface': '示し', 'base': '示す', 'pos': '動詞', 'pos1': '自立'}, {'surface': 'て', 'base': 'て', 'pos': '助詞', 'pos1': '接続助詞'}, {'surface': 'いる', 'base': 'いる', 'pos': '動詞', 'pos1': '非自立'}, {'surface': '。', 'base': '。', 'pos': '記号', 'pos1': '句点'}]\n",
      "[{'surface': 'この', 'base': 'この', 'pos': '連体詞', 'pos1': '*'}, {'surface': 'ため', 'base': 'ため', 'pos': '名詞', 'pos1': '非自立'}, {'surface': '、', 'base': '、', 'pos': '記号', 'pos1': '読点'}, {'surface': '異', 'base': '異', 'pos': '接頭詞', 'pos1': '名詞接続'}, {'surface': '分野', 'base': '分野', 'pos': '名詞', 'pos1': '一般'}, {'surface': 'の', 'base': 'の', 'pos': '助詞', 'pos1': '連体化'}, {'surface': '事業', 'base': '事業', 'pos': '名詞', 'pos1': '一般'}, {'surface': 'で', 'base': 'だ', 'pos': '助動詞', 'pos1': '*'}, {'surface': 'あっ', 'base': 'ある', 'pos': '助動詞', 'pos1': '*'}, {'surface': 'て', 'base': 'て', 'pos': '助詞', 'pos1': '接続助詞'}, {'surface': 'も', 'base': 'も', 'pos': '助詞', 'pos1': '係助詞'}, {'surface': '、', 'base': '、', 'pos': '記号', 'pos1': '読点'}, {'surface': '本書', 'base': '本書', 'pos': '名詞', 'pos1': '一般'}, {'surface': 'に従って', 'base': 'に従って', 'pos': '助詞', 'pos1': '格助詞'}, {'surface': '設計', 'base': '設計', 'pos': '名詞', 'pos1': 'サ変接続'}, {'surface': 'さ', 'base': 'する', 'pos': '動詞', 'pos1': '自立'}, {'surface': 'れる', 'base': 'れる', 'pos': '動詞', 'pos1': '接尾'}, {'surface': '共用', 'base': '共用', 'pos': '名詞', 'pos1': 'サ変接続'}, {'surface': 'の', 'base': 'の', 'pos': '助詞', 'pos1': '連体化'}, {'surface': 'アーキテクチャ', 'base': 'アーキテクチャ', 'pos': '名詞', 'pos1': '一般'}, {'surface': 'を', 'base': 'を', 'pos': '助詞', 'pos1': '格助詞'}, {'surface': '持つ', 'base': '持つ', 'pos': '動詞', 'pos1': '自立'}, {'surface': 'こと', 'base': 'こと', 'pos': '名詞', 'pos1': '非自立'}, {'surface': 'により', 'base': 'により', 'pos': '助詞', 'pos1': '格助詞'}, {'surface': '、', 'base': '、', 'pos': '記号', 'pos1': '読点'}, {'surface': '異', 'base': '異', 'pos': '接頭詞', 'pos1': '名詞接続'}, {'surface': '分野', 'base': '分野', 'pos': '名詞', 'pos1': '一般'}, {'surface': '間', 'base': '間', 'pos': '名詞', 'pos1': '接尾'}, {'surface': 'で', 'base': 'で', 'pos': '助詞', 'pos1': '格助詞'}, {'surface': 'の', 'base': 'の', 'pos': '助詞', 'pos1': '連体化'}, {'surface': 'データ', 'base': 'データ', 'pos': '名詞', 'pos1': '一般'}, {'surface': '共有', 'base': '共有', 'pos': '名詞', 'pos1': 'サ変接続'}, {'surface': 'を', 'base': 'を', 'pos': '助詞', 'pos1': '格助詞'}, {'surface': '推進', 'base': '推進', 'pos': '名詞', 'pos1': 'サ変接続'}, {'surface': 'する', 'base': 'する', 'pos': '動詞', 'pos1': '自立'}, {'surface': '一助', 'base': '一助', 'pos': '名詞', 'pos1': '一般'}, {'surface': 'と', 'base': 'と', 'pos': '助詞', 'pos1': '格助詞'}, {'surface': 'なる', 'base': 'なる', 'pos': '動詞', 'pos1': '自立'}, {'surface': 'こと', 'base': 'こと', 'pos': '名詞', 'pos1': '非自立'}, {'surface': 'も', 'base': 'も', 'pos': '助詞', 'pos1': '係助詞'}, {'surface': '期待', 'base': '期待', 'pos': '名詞', 'pos1': 'サ変接続'}, {'surface': 'さ', 'base': 'する', 'pos': '動詞', 'pos1': '自立'}, {'surface': 'れ', 'base': 'れる', 'pos': '動詞', 'pos1': '接尾'}, {'surface': 'て', 'base': 'て', 'pos': '助詞', 'pos1': '接続助詞'}, {'surface': 'いる', 'base': 'いる', 'pos': '動詞', 'pos1': '非自立'}, {'surface': '。', 'base': '。', 'pos': '記号', 'pos1': '句点'}]\n",
      "[{'surface': '僕', 'base': '僕', 'pos': '名詞', 'pos1': '代名詞'}, {'surface': 'は', 'base': 'は', 'pos': '助詞', 'pos1': '係助詞'}, {'surface': '走る', 'base': '走る', 'pos': '動詞', 'pos1': '自立'}, {'surface': '。', 'base': '。', 'pos': '記号', 'pos1': '句点'}]\n"
     ]
    },
    {
     "name": "stderr",
     "output_type": "stream",
     "text": [
      "C:\\Users\\mkiyota1\\Anaconda3\\lib\\site-packages\\ipykernel_launcher.py:60: DeprecationWarning: generator 'neco_lines' raised StopIteration\n"
     ]
    }
   ],
   "source": [
    "import MeCab\n",
    "fname = 'in/sample.txt'\n",
    "fname_parsed = 'in/sample.txt.mecab'\n",
    "\n",
    "\n",
    "def parse_neko():\n",
    "    '''「吾輩は猫である」を形態素解析\n",
    "    「吾輩は猫である」(neko.txt)を形態素解析してneko.txt.mecabに保存する\n",
    "    '''\n",
    "\n",
    "    with open(fname) as data_file, \\\n",
    "            open(fname_parsed, mode='w') as out_file:\n",
    "\n",
    "        mecab = MeCab.Tagger()\n",
    "        out_file.write(mecab.parse(data_file.read()))\n",
    "\n",
    "\n",
    "def neco_lines():\n",
    "    '''「吾輩は猫である」の形態素解析結果のジェネレータ\n",
    "    「吾輩は猫である」の形態素解析結果を順次読み込んで、各形態素を\n",
    "    ・表層形（surface）\n",
    "    ・基本形（base）\n",
    "    ・品詞（pos）\n",
    "    ・品詞細分類1（pos1）\n",
    "    の4つをキーとする辞書に格納し、1文ずつ、この辞書のリストとして返す\n",
    "\n",
    "    戻り値：\n",
    "    1文の各形態素を辞書化したリスト\n",
    "    '''\n",
    "    with open(fname_parsed) as file_parsed:\n",
    "\n",
    "        morphemes = []\n",
    "        for line in file_parsed:\n",
    "\n",
    "            # 表層形はtab区切り、それ以外は','区切りでバラす\n",
    "            cols = line.split('\\t')\n",
    "            if(len(cols) < 2):\n",
    "                raise StopIteration     # 区切りがなければ終了\n",
    "            res_cols = cols[1].split(',')\n",
    "\n",
    "            # 辞書作成、リストに追加\n",
    "            morpheme = {\n",
    "                'surface': cols[0],\n",
    "                'base': res_cols[6],\n",
    "                'pos': res_cols[0],\n",
    "                'pos1': res_cols[1]\n",
    "            }\n",
    "            morphemes.append(morpheme)\n",
    "\n",
    "            # 品詞細分類1が'句点'なら文の終わりと判定\n",
    "            if res_cols[1] == '句点':\n",
    "                yield morphemes\n",
    "                morphemes = []\n",
    "\n",
    "\n",
    "# 形態素解析\n",
    "parse_neko()\n",
    "\n",
    "# 1文ずつ辞書のリストを作成\n",
    "lines = neco_lines()\n",
    "for line in lines:\n",
    "    print(line)"
   ]
  },
  {
   "cell_type": "code",
   "execution_count": null,
   "metadata": {
    "collapsed": true
   },
   "outputs": [],
   "source": []
  },
  {
   "cell_type": "markdown",
   "metadata": {},
   "source": [
    "単語の抽出とカウント"
   ]
  },
  {
   "cell_type": "code",
   "execution_count": 18,
   "metadata": {},
   "outputs": [
    {
     "name": "stdout",
     "output_type": "stream",
     "text": [
      "[('の', 14), ('、', 13), ('を', 9), ('事業', 7), ('設計', 5), ('データ', 5), ('。', 5), ('こと', 5), ('て', 5), ('本書', 4), ('パーソナル', 4), ('で', 4), ('する', 4), ('は', 3), ('が', 3), ('さ', 3), ('いる', 3), ('分野', 3), ('この', 2), ('(', 2), (')', 2), ('書', 2), ('者', 2), ('モデル', 2), ('や', 2), ('ため', 2), ('と', 2), ('なる', 2), ('により', 2), ('アーキテクチャ', 2), ('し', 2), ('れる', 2), ('期待', 2), ('異', 2), ('も', 2), ('パーソナルデータリファレンスアーキテクチャ', 1), ('以下', 1), ('\\u3000', 1), ('扱う', 1), ('全て', 1), ('ステークホルダ', 1), ('ビジネス', 1), ('内部', 1), ('統制', 1), ('など', 1), ('システム', 1), ('行う', 1), ('ガイド', 1), ('ある', 1), ('示す', 1), ('手順', 1), ('各', 1), ('自ら', 1), ('・', 1), ('整理', 1), ('取り扱い', 1), ('適正', 1), ('性', 1), ('潜在', 1), ('課題', 1), ('顕在', 1), ('化', 1), ('適切', 1), ('な', 1), ('利', 1), ('活用', 1), ('構築', 1), ('加え', 1), ('特定', 1), ('内容', 1), ('に', 1), ('限定', 1), ('なく', 1), ('取り扱う', 1), ('共通', 1), ('要件', 1), ('示し', 1), ('あっ', 1), ('に従って', 1), ('共用', 1), ('持つ', 1), ('間', 1), ('共有', 1), ('推進', 1), ('一助', 1), ('れ', 1), ('僕', 1), ('走る', 1)]\n"
     ]
    },
    {
     "name": "stderr",
     "output_type": "stream",
     "text": [
      "C:\\Users\\mkiyota1\\Anaconda3\\lib\\site-packages\\ipykernel_launcher.py:60: DeprecationWarning: generator 'neco_lines' raised StopIteration\n"
     ]
    }
   ],
   "source": [
    "import MeCab\n",
    "from collections import Counter\n",
    "fname = 'in/sample.txt'\n",
    "fname_parsed = 'in/sample.txt.mecab'\n",
    "\n",
    "def parse_neko():\n",
    "    '''「吾輩は猫である」を形態素解析\n",
    "    「吾輩は猫である」(neko.txt)を形態素解析してneko.txt.mecabに保存する\n",
    "    '''\n",
    "\n",
    "    with open(fname) as data_file, \\\n",
    "            open(fname_parsed, mode='w') as out_file:\n",
    "\n",
    "        mecab = MeCab.Tagger()\n",
    "        out_file.write(mecab.parse(data_file.read()))\n",
    "\n",
    "\n",
    "def neco_lines():\n",
    "    '''「吾輩は猫である」の形態素解析結果のジェネレータ\n",
    "    「吾輩は猫である」の形態素解析結果を順次読み込んで、各形態素を\n",
    "    ・表層形（surface）\n",
    "    ・基本形（base）\n",
    "    ・品詞（pos）\n",
    "    ・品詞細分類1（pos1）\n",
    "    の4つをキーとする辞書に格納し、1文ずつ、この辞書のリストとして返す\n",
    "\n",
    "    戻り値：\n",
    "    1文の各形態素を辞書化したリスト\n",
    "    '''\n",
    "    with open(fname_parsed) as file_parsed:\n",
    "\n",
    "        morphemes = []\n",
    "        for line in file_parsed:\n",
    "\n",
    "            # 表層形はtab区切り、それ以外は','区切りでバラす\n",
    "            cols = line.split('\\t')\n",
    "            if(len(cols) < 2):\n",
    "                raise StopIteration     # 区切りがなければ終了\n",
    "            res_cols = cols[1].split(',')\n",
    "\n",
    "            # 辞書作成、リストに追加\n",
    "            morpheme = {\n",
    "                'surface': cols[0],\n",
    "                'base': res_cols[6],\n",
    "                'pos': res_cols[0],\n",
    "                'pos1': res_cols[1]\n",
    "            }\n",
    "            morphemes.append(morpheme)\n",
    "\n",
    "            # 品詞細分類1が'句点'なら文の終わりと判定\n",
    "            if res_cols[1] == '句点':\n",
    "                yield morphemes\n",
    "                morphemes = []\n",
    "\n",
    "\n",
    "# 形態素解析\n",
    "parse_neko()\n",
    "\n",
    "# Counterオブジェクトに単語をセット\n",
    "word_counter = Counter()\n",
    "for line in neco_lines():\n",
    "    word_counter.update([morpheme['surface'] for morpheme in line])\n",
    "\n",
    "# 出現頻度順のリストを取得\n",
    "list_word = word_counter.most_common()\n",
    "print(list_word)"
   ]
  },
  {
   "cell_type": "code",
   "execution_count": null,
   "metadata": {
    "collapsed": true
   },
   "outputs": [],
   "source": []
  },
  {
   "cell_type": "code",
   "execution_count": 23,
   "metadata": {},
   "outputs": [
    {
     "name": "stdout",
     "output_type": "stream",
     "text": [
      "[('の', 14), ('、', 13), ('を', 9), ('事業', 7), ('設計', 5), ('データ', 5), ('。', 5), ('こと', 5), ('て', 5), ('本書', 4)]\n"
     ]
    },
    {
     "data": {
      "image/png": "[encoded data removed]",
      "text/plain": [
       "<matplotlib.figure.Figure at 0x1d8091ba080>"
      ]
     },
     "metadata": {},
     "output_type": "display_data"
    }
   ],
   "source": [
    "# 頻度上位10語の取得\n",
    "size = 10\n",
    "list_word = word_counter.most_common(size)\n",
    "print(list_word)\n",
    "\n",
    "# 単語（x軸用）と出現数（y軸用）のリストに分解\n",
    "list_zipped = list(zip(*list_word))\n",
    "words = list_zipped[0]\n",
    "counts = list_zipped[1]\n",
    "\n",
    "plt.bar(\n",
    "    range(0, size),     # x軸の値（0,1,2...9）\n",
    "    counts,             # それに対応するy軸の値\n",
    "    align='center'      # x軸における棒グラフの表示位置\n",
    ")\n",
    "\n",
    "# グリッドを表示\n",
    "plt.grid(axis='y')\n",
    "\n",
    "# 表示\n",
    "plt.show()"
   ]
  },
  {
   "cell_type": "code",
   "execution_count": 13,
   "metadata": {},
   "outputs": [
    {
     "data": {
      "text/plain": [
       "[]"
      ]
     },
     "execution_count": 13,
     "metadata": {},
     "output_type": "execute_result"
    }
   ],
   "source": [
    "token_list"
   ]
  },
  {
   "cell_type": "code",
   "execution_count": null,
   "metadata": {
    "collapsed": true
   },
   "outputs": [],
   "source": [
    "for s in doc:\n",
    "    for t in s:\n",
    "        if t['pos'] == '動詞':\n",
    "            print(t['surface'])"
   ]
  },
  {
   "cell_type": "code",
   "execution_count": null,
   "metadata": {},
   "outputs": [],
   "source": [
    "import matplotlib.pyplot as plt\n",
    "import japanize_matplotlib\n",
    "%matplotlib inline\n",
    "n = 10\n",
    "labels = [i[0] for i in sorted(count_dic.items(), key=lambda x: -x[1])[:n]]\n",
    "score = [i[1] for i in sorted(count_dic.items(), key=lambda x: -x[1])[:n]]\n",
    "\n",
    "plt.bar(labels, score)\n",
    "plt.show()"
   ]
  },
  {
   "cell_type": "code",
   "execution_count": null,
   "metadata": {
    "collapsed": true
   },
   "outputs": [],
   "source": []
  }
 ],
 "metadata": {
  "kernelspec": {
   "display_name": "Python 3",
   "language": "python",
   "name": "python3"
  },
  "language_info": {
   "codemirror_mode": {
    "name": "ipython",
    "version": 3
   },
   "file_extension": ".py",
   "mimetype": "text/x-python",
   "name": "python",
   "nbconvert_exporter": "python",
   "pygments_lexer": "ipython3",
   "version": "3.6.2"
  }
 },
 "nbformat": 4,
 "nbformat_minor": 2
}
