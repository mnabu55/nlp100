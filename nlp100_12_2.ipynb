{
  "nbformat": 4,
  "nbformat_minor": 0,
  "metadata": {
    "colab": {
      "name": "nlp100_12_2.ipynb",
      "provenance": [],
      "include_colab_link": true
    },
    "kernelspec": {
      "name": "python3",
      "display_name": "Python 3"
    }
  },
  "cells": [
    {
      "cell_type": "markdown",
      "metadata": {
        "id": "view-in-github",
        "colab_type": "text"
      },
      "source": [
        "<a href=\"https://colab.research.google.com/github/mnabu55/nlp100/blob/master/nlp100_12_2.ipynb\" target=\"_parent\"><img src=\"https://colab.research.google.com/assets/colab-badge.svg\" alt=\"Open In Colab\"/></a>"
      ]
    },
    {
      "cell_type": "code",
      "metadata": {
        "id": "dHdI0mXqaA3F",
        "colab_type": "code",
        "colab": {
          "base_uri": "https://localhost:8080/",
          "height": 34
        },
        "outputId": "b0c08e5f-0a7f-4c22-d4f6-139b38511328"
      },
      "source": [
        "from google.colab import drive\n",
        "drive.mount(\"/content/gdrive\")"
      ],
      "execution_count": 5,
      "outputs": [
        {
          "output_type": "stream",
          "text": [
            "Drive already mounted at /content/gdrive; to attempt to forcibly remount, call drive.mount(\"/content/gdrive\", force_remount=True).\n"
          ],
          "name": "stdout"
        }
      ]
    },
    {
      "cell_type": "code",
      "metadata": {
        "id": "0li5_nAnaQd7",
        "colab_type": "code",
        "colab": {
          "base_uri": "https://localhost:8080/",
          "height": 68
        },
        "outputId": "7d0695c7-ee16-4f58-d55d-9f5a4355c304"
      },
      "source": [
        "import os\n",
        "os.chdir('/content/gdrive/My Drive/Colab Notebooks/nlp100knock/')\n",
        "\n",
        "!ls\n",
        "!ls data"
      ],
      "execution_count": 6,
      "outputs": [
        {
          "output_type": "stream",
          "text": [
            "col1.txt  data\t\t   nlp100_11.ipynb    nlp100_12.ipynb\n",
            "col2.txt  nlp100_10.ipynb  nlp100_12_2.ipynb\n",
            "hightemp.txt\n"
          ],
          "name": "stdout"
        }
      ]
    },
    {
      "cell_type": "code",
      "metadata": {
        "id": "OyFKlbm2amJt",
        "colab_type": "code",
        "colab": {}
      },
      "source": [
        "with open('data/hightemp.txt', 'r') as fi:\n",
        "    with open('col1.txt', 'w') as fw1:\n",
        "        with open('col2.txt', 'w') as fw2:\n",
        "            for line in fi:\n",
        "                words = line.split()\n",
        "                fw1.write(words[0])\n",
        "                fw2.write(words[1])\n"
      ],
      "execution_count": 0,
      "outputs": []
    },
    {
      "cell_type": "code",
      "metadata": {
        "id": "iJHTg3adclGJ",
        "colab_type": "code",
        "colab": {
          "base_uri": "https://localhost:8080/",
          "height": 51
        },
        "outputId": "6c8c98bc-2b6b-4805-e3d6-ecf224e91c57"
      },
      "source": [
        "!ls"
      ],
      "execution_count": 8,
      "outputs": [
        {
          "output_type": "stream",
          "text": [
            "col1.txt  data\t\t   nlp100_11.ipynb    nlp100_12.ipynb\n",
            "col2.txt  nlp100_10.ipynb  nlp100_12_2.ipynb\n"
          ],
          "name": "stdout"
        }
      ]
    },
    {
      "cell_type": "code",
      "metadata": {
        "id": "UquQz4O1cx5J",
        "colab_type": "code",
        "colab": {
          "base_uri": "https://localhost:8080/",
          "height": 51
        },
        "outputId": "6766a5f8-c442-485f-b5de-146e0bbb4eae"
      },
      "source": [
        "!cut -d \" \" -f \"./data/hightemp.txt\"\n"
      ],
      "execution_count": 14,
      "outputs": [
        {
          "output_type": "stream",
          "text": [
            "cut: invalid field value ‘./data/hightemp.txt’\n",
            "Try 'cut --help' for more information.\n"
          ],
          "name": "stdout"
        }
      ]
    },
    {
      "cell_type": "code",
      "metadata": {
        "id": "0TPYxZLNevUk",
        "colab_type": "code",
        "colab": {
          "base_uri": "https://localhost:8080/",
          "height": 34
        },
        "outputId": "c02486f1-f87e-43a3-cec0-37c8e18d9973"
      },
      "source": [
        "!ls data"
      ],
      "execution_count": 15,
      "outputs": [
        {
          "output_type": "stream",
          "text": [
            "hightemp.txt\n"
          ],
          "name": "stdout"
        }
      ]
    },
    {
      "cell_type": "code",
      "metadata": {
        "id": "NXijBq0ifK69",
        "colab_type": "code",
        "colab": {
          "base_uri": "https://localhost:8080/",
          "height": 425
        },
        "outputId": "2dbb2250-b916-4d6a-cc69-d42378ba5290"
      },
      "source": [
        "! cut -f 2 -d \" \" ./data/hightemp.txt"
      ],
      "execution_count": 25,
      "outputs": [
        {
          "output_type": "stream",
          "text": [
            "高知県\t江川崎\t41\t2013-08-12\n",
            "埼玉県\t熊谷\t40.9\t2007-08-16\n",
            "岐阜県\t多治見\t40.9\t2007-08-16\n",
            "山形県\t山形\t40.8\t1933-07-25\n",
            "山梨県\t甲府\t40.7\t2013-08-10\n",
            "和歌山県\tかつらぎ\t40.6\t1994-08-08\n",
            "静岡県\t天竜\t40.6\t1994-08-04\n",
            "山梨県\t勝沼\t40.5\t2013-08-10\n",
            "埼玉県\t越谷\t40.4\t2007-08-16\n",
            "群馬県\t館林\t40.3\t2007-08-16\n",
            "群馬県\t上里見\t40.3\t1998-07-04\n",
            "愛知県\t愛西\t40.3\t1994-08-05\n",
            "千葉県\t牛久\t40.2\t2004-07-20\n",
            "静岡県\t佐久間\t40.2\t2001-07-24\n",
            "愛媛県\t宇和島\t40.2\t1927-07-22\n",
            "山形県\t酒田\t40.1\t1978-08-03\n",
            "岐阜県\t美濃\t40\t2007-08-16\n",
            "群馬県\t前橋\t40\t2001-07-24\n",
            "千葉県\t茂原\t39.9\t2013-08-11\n",
            "埼玉県\t鳩山\t39.9\t1997-07-05\n",
            "大阪府\t豊中\t39.9\t1994-08-08\n",
            "山梨県\t大月\t39.9\t1990-07-19\n",
            "山形県\t鶴岡\t39.9\t1978-08-03\n",
            "愛知県\t名古屋\t39.9\t1942-08-02\n"
          ],
          "name": "stdout"
        }
      ]
    },
    {
      "cell_type": "code",
      "metadata": {
        "id": "WYBo1aJPfkJs",
        "colab_type": "code",
        "colab": {}
      },
      "source": [
        ""
      ],
      "execution_count": 0,
      "outputs": []
    }
  ]
}