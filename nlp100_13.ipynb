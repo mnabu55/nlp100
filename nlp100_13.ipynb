{
  "nbformat": 4,
  "nbformat_minor": 0,
  "metadata": {
    "colab": {
      "name": "nlp100_13.ipynb",
      "provenance": [],
      "include_colab_link": true
    },
    "kernelspec": {
      "name": "python3",
      "display_name": "Python 3"
    }
  },
  "cells": [
    {
      "cell_type": "markdown",
      "metadata": {
        "id": "view-in-github",
        "colab_type": "text"
      },
      "source": [
        "<a href=\"https://colab.research.google.com/github/mnabu55/nlp100/blob/master/nlp100_13.ipynb\" target=\"_parent\"><img src=\"https://colab.research.google.com/assets/colab-badge.svg\" alt=\"Open In Colab\"/></a>"
      ]
    },
    {
      "cell_type": "markdown",
      "metadata": {
        "id": "EN2Ujz3hj8TN",
        "colab_type": "text"
      },
      "source": [
        "12で作ったcol1.txtとcol2.txtを結合し，元のファイルの1列目と2列目をタブ区切りで並べたテキストファイルを作成せよ．確認にはpasteコマンドを用いよ．"
      ]
    },
    {
      "cell_type": "code",
      "metadata": {
        "id": "SMC5DSN6hO8I",
        "colab_type": "code",
        "colab": {
          "base_uri": "https://localhost:8080/",
          "height": 34
        },
        "outputId": "de62592d-f162-4bdd-b653-1697f595a191"
      },
      "source": [
        "from google.colab import drive\n",
        "drive.mount('/content/gdrive')\n",
        "\n",
        "import os\n",
        "os.chdir('/content/gdrive/My Drive/Colab Notebooks/nlp100knock')"
      ],
      "execution_count": 2,
      "outputs": [
        {
          "output_type": "stream",
          "text": [
            "Drive already mounted at /content/gdrive; to attempt to forcibly remount, call drive.mount(\"/content/gdrive\", force_remount=True).\n"
          ],
          "name": "stdout"
        }
      ]
    },
    {
      "cell_type": "code",
      "metadata": {
        "id": "RNeCXBzHhgz3",
        "colab_type": "code",
        "colab": {}
      },
      "source": [
        "list1 = []\n",
        "with open('col1.txt', 'r') as fi1:\n",
        "    for line in fi1:\n",
        "        list1.append(line.rstrip())\n",
        "\n",
        "list2 = []\n",
        "with open('col2.txt', 'r') as fi2:\n",
        "    for line in fi2:\n",
        "        list2.append(line.rstrip())\n",
        "\n",
        "with open('colall.txt', 'w') as fw:\n",
        "    for w1, w2 in zip(list1, list2):\n",
        "        fw.write(\"{}\\t{}\\n\".format(w1, w2))\n"
      ],
      "execution_count": 0,
      "outputs": []
    },
    {
      "cell_type": "code",
      "metadata": {
        "id": "k9y_yrsEiVdL",
        "colab_type": "code",
        "colab": {}
      },
      "source": [
        ""
      ],
      "execution_count": 0,
      "outputs": []
    }
  ]
}