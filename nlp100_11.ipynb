{
  "nbformat": 4,
  "nbformat_minor": 0,
  "metadata": {
    "colab": {
      "name": "nlp100_11.ipynb",
      "provenance": [],
      "include_colab_link": true
    },
    "kernelspec": {
      "name": "python3",
      "display_name": "Python 3"
    }
  },
  "cells": [
    {
      "cell_type": "markdown",
      "metadata": {
        "id": "view-in-github",
        "colab_type": "text"
      },
      "source": [
        "<a href=\"https://colab.research.google.com/github/mnabu55/nlp100/blob/master/nlp100_11.ipynb\" target=\"_parent\"><img src=\"https://colab.research.google.com/assets/colab-badge.svg\" alt=\"Open In Colab\"/></a>"
      ]
    },
    {
      "cell_type": "code",
      "metadata": {
        "id": "KK3uHcXB8nvi",
        "colab_type": "code",
        "outputId": "af5814be-c111-4aa5-875a-57adc4de5c50",
        "colab": {
          "base_uri": "https://localhost:8080/",
          "height": 122
        }
      },
      "source": [
        "from google.colab import drive\n",
        "drive.mount(\"/content/gdrive\")"
      ],
      "execution_count": 2,
      "outputs": [
        {
          "output_type": "stream",
          "text": [
            "Go to this URL in a browser: https://accounts.google.com/o/oauth2/auth?client_id=947318989803-6bn6qk8qdgf4n4g3pfee6491hc0brc4i.apps.googleusercontent.com&redirect_uri=urn%3aietf%3awg%3aoauth%3a2.0%3aoob&response_type=code&scope=email%20https%3a%2f%2fwww.googleapis.com%2fauth%2fdocs.test%20https%3a%2f%2fwww.googleapis.com%2fauth%2fdrive%20https%3a%2f%2fwww.googleapis.com%2fauth%2fdrive.photos.readonly%20https%3a%2f%2fwww.googleapis.com%2fauth%2fpeopleapi.readonly\n",
            "\n",
            "Enter your authorization code:\n",
            "··········\n",
            "Mounted at /content/gdrive\n"
          ],
          "name": "stdout"
        }
      ]
    },
    {
      "cell_type": "code",
      "metadata": {
        "id": "HWL0VLaS9ZjA",
        "colab_type": "code",
        "colab": {}
      },
      "source": [
        "import os\n",
        "os.chdir('/content/gdrive/My Drive/Colab Notebooks/nlp100knock/')"
      ],
      "execution_count": 0,
      "outputs": []
    },
    {
      "cell_type": "code",
      "metadata": {
        "id": "KLorBo-9-DUB",
        "colab_type": "code",
        "outputId": "48ac66e2-789b-4e6d-e586-291e388addfd",
        "colab": {
          "base_uri": "https://localhost:8080/",
          "height": 442
        }
      },
      "source": [
        "import re\n",
        "\n",
        "number_line = 0\n",
        "with open('./data/hightemp.txt', 'r') as f:\n",
        "    text = re.sub(r'¥t', '¥s', f.read())\n",
        "    print(text)\n"
      ],
      "execution_count": 12,
      "outputs": [
        {
          "output_type": "stream",
          "text": [
            "高知県\t江川崎\t41\t2013-08-12\n",
            "埼玉県\t熊谷\t40.9\t2007-08-16\n",
            "岐阜県\t多治見\t40.9\t2007-08-16\n",
            "山形県\t山形\t40.8\t1933-07-25\n",
            "山梨県\t甲府\t40.7\t2013-08-10\n",
            "和歌山県\tかつらぎ\t40.6\t1994-08-08\n",
            "静岡県\t天竜\t40.6\t1994-08-04\n",
            "山梨県\t勝沼\t40.5\t2013-08-10\n",
            "埼玉県\t越谷\t40.4\t2007-08-16\n",
            "群馬県\t館林\t40.3\t2007-08-16\n",
            "群馬県\t上里見\t40.3\t1998-07-04\n",
            "愛知県\t愛西\t40.3\t1994-08-05\n",
            "千葉県\t牛久\t40.2\t2004-07-20\n",
            "静岡県\t佐久間\t40.2\t2001-07-24\n",
            "愛媛県\t宇和島\t40.2\t1927-07-22\n",
            "山形県\t酒田\t40.1\t1978-08-03\n",
            "岐阜県\t美濃\t40\t2007-08-16\n",
            "群馬県\t前橋\t40\t2001-07-24\n",
            "千葉県\t茂原\t39.9\t2013-08-11\n",
            "埼玉県\t鳩山\t39.9\t1997-07-05\n",
            "大阪府\t豊中\t39.9\t1994-08-08\n",
            "山梨県\t大月\t39.9\t1990-07-19\n",
            "山形県\t鶴岡\t39.9\t1978-08-03\n",
            "愛知県\t名古屋\t39.9\t1942-08-02\n",
            "\n"
          ],
          "name": "stdout"
        }
      ]
    },
    {
      "cell_type": "code",
      "metadata": {
        "id": "yntKGFRJ_T4F",
        "colab_type": "code",
        "outputId": "93f201f4-9f71-4154-e311-3fb0f159b650",
        "colab": {
          "base_uri": "https://localhost:8080/",
          "height": 34
        }
      },
      "source": [
        "!wc ./data/hightemp.txt\n"
      ],
      "execution_count": 0,
      "outputs": [
        {
          "output_type": "stream",
          "text": [
            " 24  96 813 ./data/hightemp.txt\n"
          ],
          "name": "stdout"
        }
      ]
    }
  ]
}