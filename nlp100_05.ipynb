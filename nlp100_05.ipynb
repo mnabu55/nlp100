{
 "cells": [
  {
   "cell_type": "code",
   "execution_count": 1,
   "metadata": {},
   "outputs": [
    {
     "name": "stdout",
     "output_type": "stream",
     "text": [
      "I am an NLPer\n"
     ]
    }
   ],
   "source": [
    "str = 'I am an NLPer'\n",
    "print(str)"
   ]
  },
  {
   "cell_type": "code",
   "execution_count": 2,
   "metadata": {},
   "outputs": [
    {
     "name": "stdout",
     "output_type": "stream",
     "text": [
      "Ia nNPr\n"
     ]
    }
   ],
   "source": [
    "print(str[::2])"
   ]
  },
  {
   "cell_type": "code",
   "execution_count": 3,
   "metadata": {
    "collapsed": true
   },
   "outputs": [],
   "source": [
    "def ngram(str, n):\n",
    "    list = []\n",
    "    i = 0\n",
    "    while i < len(str):\n",
    "        list.append(str[i:i+n])\n",
    "        i += n\n",
    "    \n",
    "    return list"
   ]
  },
  {
   "cell_type": "code",
   "execution_count": 4,
   "metadata": {},
   "outputs": [
    {
     "name": "stdout",
     "output_type": "stream",
     "text": [
      "['I', ' ', 'a', 'm', ' ', 'a', 'n', ' ', 'N', 'L', 'P', 'e', 'r']\n",
      "['I ', 'am', ' a', 'n ', 'NL', 'Pe', 'r']\n",
      "['I a', 'm a', 'n N', 'LPe', 'r']\n",
      "['I am', ' an ', 'NLPe', 'r']\n",
      "['I am ', 'an NL', 'Per']\n",
      "['I am a', 'n NLPe', 'r']\n",
      "['I am an', ' NLPer']\n",
      "['I am an ', 'NLPer']\n",
      "['I am an N', 'LPer']\n"
     ]
    }
   ],
   "source": [
    "i = 1\n",
    "max = 10\n",
    "while i < max:\n",
    "    print(ngram(str, i))\n",
    "    i += 1"
   ]
  },
  {
   "cell_type": "code",
   "execution_count": null,
   "metadata": {
    "collapsed": true
   },
   "outputs": [],
   "source": []
  }
 ],
 "metadata": {
  "kernelspec": {
   "display_name": "Python 3",
   "language": "python",
   "name": "python3"
  },
  "language_info": {
   "codemirror_mode": {
    "name": "ipython",
    "version": 3
   },
   "file_extension": ".py",
   "mimetype": "text/x-python",
   "name": "python",
   "nbconvert_exporter": "python",
   "pygments_lexer": "ipython3",
   "version": "3.6.2"
  }
 },
 "nbformat": 4,
 "nbformat_minor": 2
}
