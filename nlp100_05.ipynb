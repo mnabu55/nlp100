{
 "cells": [
  {
   "cell_type": "code",
   "execution_count": 1,
   "metadata": {},
   "outputs": [
    {
     "name": "stdout",
     "output_type": "stream",
     "text": [
      "1234567890abcdefghijklmnopqrstuvwxyz\n"
     ]
    }
   ],
   "source": [
    "str = '1234567890abcdefghijklmnopqrstuvwxyz'\n",
    "print(str)"
   ]
  },
  {
   "cell_type": "code",
   "execution_count": 2,
   "metadata": {},
   "outputs": [
    {
     "name": "stdout",
     "output_type": "stream",
     "text": [
      "13579acegikmoqsuwy\n"
     ]
    }
   ],
   "source": [
    "print(str[::2])"
   ]
  },
  {
   "cell_type": "code",
   "execution_count": 5,
   "metadata": {
    "collapsed": true
   },
   "outputs": [],
   "source": [
    "def ngram(str, n):\n",
    "    list = []\n",
    "    i = 0\n",
    "    while i < len(str):\n",
    "        list.append(str[i:i+n])\n",
    "        i += n\n",
    "    \n",
    "    return list"
   ]
  },
  {
   "cell_type": "code",
   "execution_count": 10,
   "metadata": {},
   "outputs": [
    {
     "name": "stdout",
     "output_type": "stream",
     "text": [
      "['1', '2', '3', '4', '5', '6', '7', '8', '9', '0', 'a', 'b', 'c', 'd', 'e', 'f', 'g', 'h', 'i', 'j', 'k', 'l', 'm', 'n', 'o', 'p', 'q', 'r', 's', 't', 'u', 'v', 'w', 'x', 'y', 'z']\n",
      "['12', '34', '56', '78', '90', 'ab', 'cd', 'ef', 'gh', 'ij', 'kl', 'mn', 'op', 'qr', 'st', 'uv', 'wx', 'yz']\n",
      "['123', '456', '789', '0ab', 'cde', 'fgh', 'ijk', 'lmn', 'opq', 'rst', 'uvw', 'xyz']\n",
      "['1234', '5678', '90ab', 'cdef', 'ghij', 'klmn', 'opqr', 'stuv', 'wxyz']\n",
      "['12345', '67890', 'abcde', 'fghij', 'klmno', 'pqrst', 'uvwxy', 'z']\n",
      "['123456', '7890ab', 'cdefgh', 'ijklmn', 'opqrst', 'uvwxyz']\n",
      "['1234567', '890abcd', 'efghijk', 'lmnopqr', 'stuvwxy', 'z']\n",
      "['12345678', '90abcdef', 'ghijklmn', 'opqrstuv', 'wxyz']\n",
      "['123456789', '0abcdefgh', 'ijklmnopq', 'rstuvwxyz']\n"
     ]
    }
   ],
   "source": [
    "i = 1\n",
    "max = 10\n",
    "while i < max:\n",
    "    print(ngram(str, i))\n",
    "    i += 1"
   ]
  },
  {
   "cell_type": "code",
   "execution_count": null,
   "metadata": {
    "collapsed": true
   },
   "outputs": [],
   "source": []
  }
 ],
 "metadata": {
  "kernelspec": {
   "display_name": "Python 3",
   "language": "python",
   "name": "python3"
  },
  "language_info": {
   "codemirror_mode": {
    "name": "ipython",
    "version": 3
   },
   "file_extension": ".py",
   "mimetype": "text/x-python",
   "name": "python",
   "nbconvert_exporter": "python",
   "pygments_lexer": "ipython3",
   "version": "3.6.2"
  }
 },
 "nbformat": 4,
 "nbformat_minor": 2
}
