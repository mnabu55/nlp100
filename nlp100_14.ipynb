{
  "nbformat": 4,
  "nbformat_minor": 0,
  "metadata": {
    "colab": {
      "name": "nlp100_14.ipynb",
      "provenance": [],
      "include_colab_link": true
    },
    "kernelspec": {
      "name": "python3",
      "display_name": "Python 3"
    }
  },
  "cells": [
    {
      "cell_type": "markdown",
      "metadata": {
        "id": "view-in-github",
        "colab_type": "text"
      },
      "source": [
        "<a href=\"https://colab.research.google.com/github/mnabu55/nlp100/blob/master/nlp100_14.ipynb\" target=\"_parent\"><img src=\"https://colab.research.google.com/assets/colab-badge.svg\" alt=\"Open In Colab\"/></a>"
      ]
    },
    {
      "cell_type": "markdown",
      "metadata": {
        "id": "EN2Ujz3hj8TN",
        "colab_type": "text"
      },
      "source": [
        "14. 先頭からN行を出力"
      ]
    },
    {
      "cell_type": "code",
      "metadata": {
        "id": "SMC5DSN6hO8I",
        "colab_type": "code",
        "colab": {}
      },
      "source": [
        "from google.colab import drive\n",
        "drive.mount('/content/gdrive')\n",
        "\n",
        "import os\n",
        "os.chdir('/content/gdrive/My Drive/Colab Notebooks/nlp100knock')"
      ],
      "execution_count": 0,
      "outputs": []
    },
    {
      "cell_type": "code",
      "metadata": {
        "id": "RNeCXBzHhgz3",
        "colab_type": "code",
        "colab": {
          "base_uri": "https://localhost:8080/",
          "height": 119
        },
        "outputId": "d60d9ab1-e768-4337-8ce3-2e2a40a8046c"
      },
      "source": [
        "N = int(input())\n",
        "\n",
        "with open('./data/hightemp.txt', 'r') as fi:\n",
        "    for i in range(N):\n",
        "        print(fi.readline().strip())"
      ],
      "execution_count": 7,
      "outputs": [
        {
          "output_type": "stream",
          "text": [
            "5\n",
            "高知県\t江川崎\t41\t2013-08-12\n",
            "埼玉県\t熊谷\t40.9\t2007-08-16\n",
            "岐阜県\t多治見\t40.9\t2007-08-16\n",
            "山形県\t山形\t40.8\t1933-07-25\n",
            "山梨県\t甲府\t40.7\t2013-08-10\n"
          ],
          "name": "stdout"
        }
      ]
    },
    {
      "cell_type": "code",
      "metadata": {
        "id": "LPD2tgUV23SW",
        "colab_type": "code",
        "colab": {
          "base_uri": "https://localhost:8080/",
          "height": 102
        },
        "outputId": "55f23c91-f818-4dca-887d-44b6812791a1"
      },
      "source": [
        "!head -5 ./data/hightemp.txt"
      ],
      "execution_count": 8,
      "outputs": [
        {
          "output_type": "stream",
          "text": [
            "高知県\t江川崎\t41\t2013-08-12\n",
            "埼玉県\t熊谷\t40.9\t2007-08-16\n",
            "岐阜県\t多治見\t40.9\t2007-08-16\n",
            "山形県\t山形\t40.8\t1933-07-25\n",
            "山梨県\t甲府\t40.7\t2013-08-10\n"
          ],
          "name": "stdout"
        }
      ]
    }
  ]
}