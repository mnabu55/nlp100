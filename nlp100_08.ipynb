{
 "cells": [
  {
   "cell_type": "markdown",
   "metadata": {},
   "source": [
    "# 08. 暗号文\n",
    "与えられた文字列の各文字を，以下の仕様で変換する関数cipherを実装せよ．\n",
    "\n",
    "英小文字ならば(219 - 文字コード)の文字に置換\n",
    "その他の文字はそのまま出力\n",
    "この関数を用い，英語のメッセージを暗号化・復号化せよ．"
   ]
  },
  {
   "cell_type": "code",
   "execution_count": 26,
   "metadata": {
    "collapsed": true
   },
   "outputs": [],
   "source": [
    "def cipher(str):\n",
    "    i = 0\n",
    "    length = len(str)\n",
    "    return_str = ''\n",
    "    while i < length:\n",
    "        if str[i].islower() == True:\n",
    "            return_str +=chr(219 - ord(str[i]))\n",
    "        else:\n",
    "            return_str += str[i]\n",
    "        i += 1\n",
    "        \n",
    "    return return_str"
   ]
  },
  {
   "cell_type": "code",
   "execution_count": 28,
   "metadata": {},
   "outputs": [
    {
     "name": "stdout",
     "output_type": "stream",
     "text": [
      "original: this is 2nd message!!\n",
      "cipher: gsrh rh 2mw nvhhztv!!\n"
     ]
    }
   ],
   "source": [
    "str = \"this is 2nd message!!\"\n",
    "print(\"original: \" + str)\n",
    "print(\"cipher: \" + cipher(str))"
   ]
  },
  {
   "cell_type": "code",
   "execution_count": 17,
   "metadata": {},
   "outputs": [],
   "source": [
    "def cipher2(str):\n",
    "    str_cipher = \"\"\n",
    "    for c in str:\n",
    "        if c.islower() == True:\n",
    "            str_cipher.join(chr(219 - ord(c)))\n",
    "        else:\n",
    "            str_cipher.join(c)\n",
    "            \n",
    "    return str_cipher        "
   ]
  },
  {
   "cell_type": "code",
   "execution_count": 19,
   "metadata": {},
   "outputs": [
    {
     "name": "stdout",
     "output_type": "stream",
     "text": [
      "original: 123abc456\n",
      "cipher: \n"
     ]
    }
   ],
   "source": [
    "str = \"123abc456\"\n",
    "\n",
    "print(\"original: \" + str)\n",
    "print(\"cipher: \" + cipher2(str))"
   ]
  },
  {
   "cell_type": "code",
   "execution_count": 13,
   "metadata": {
    "collapsed": true
   },
   "outputs": [],
   "source": [
    "def cipher3(str):\n",
    "    return ''.join(chr(219 - ord(c)) if 'a' <= c <= 'z' else c for c in str)\n",
    "\n",
    "## これだけでいいんだ。。。"
   ]
  },
  {
   "cell_type": "code",
   "execution_count": 14,
   "metadata": {},
   "outputs": [
    {
     "name": "stdout",
     "output_type": "stream",
     "text": [
      "original: 123abc456\n",
      "cipher: 123zyx456\n"
     ]
    }
   ],
   "source": [
    "str = \"123abc456\"\n",
    "\n",
    "print(\"original: \" + str)\n",
    "print(\"cipher: \" + cipher3(str))"
   ]
  },
  {
   "cell_type": "code",
   "execution_count": null,
   "metadata": {
    "collapsed": true
   },
   "outputs": [],
   "source": []
  }
 ],
 "metadata": {
  "kernelspec": {
   "display_name": "Python 3",
   "language": "python",
   "name": "python3"
  },
  "language_info": {
   "codemirror_mode": {
    "name": "ipython",
    "version": 3
   },
   "file_extension": ".py",
   "mimetype": "text/x-python",
   "name": "python",
   "nbconvert_exporter": "python",
   "pygments_lexer": "ipython3",
   "version": "3.6.2"
  }
 },
 "nbformat": 4,
 "nbformat_minor": 2
}
