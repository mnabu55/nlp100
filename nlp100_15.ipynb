{
  "nbformat": 4,
  "nbformat_minor": 0,
  "metadata": {
    "colab": {
      "name": "nlp100_15.ipynb",
      "provenance": [],
      "include_colab_link": true
    },
    "kernelspec": {
      "name": "python3",
      "display_name": "Python 3"
    }
  },
  "cells": [
    {
      "cell_type": "markdown",
      "metadata": {
        "id": "view-in-github",
        "colab_type": "text"
      },
      "source": [
        "<a href=\"https://colab.research.google.com/github/mnabu55/nlp100/blob/master/nlp100_15.ipynb\" target=\"_parent\"><img src=\"https://colab.research.google.com/assets/colab-badge.svg\" alt=\"Open In Colab\"/></a>"
      ]
    },
    {
      "cell_type": "markdown",
      "metadata": {
        "id": "EN2Ujz3hj8TN",
        "colab_type": "text"
      },
      "source": [
        "14. 先頭からN行を出力"
      ]
    },
    {
      "cell_type": "code",
      "metadata": {
        "id": "SMC5DSN6hO8I",
        "colab_type": "code",
        "colab": {
          "base_uri": "https://localhost:8080/",
          "height": 122
        },
        "outputId": "28024b56-2f34-46f9-811b-3381f2c91ecc"
      },
      "source": [
        "from google.colab import drive\n",
        "drive.mount('/content/gdrive')\n",
        "\n",
        "import os\n",
        "os.chdir('/content/gdrive/My Drive/Colab Notebooks/nlp100knock')"
      ],
      "execution_count": 2,
      "outputs": [
        {
          "output_type": "stream",
          "text": [
            "Go to this URL in a browser: https://accounts.google.com/o/oauth2/auth?client_id=947318989803-6bn6qk8qdgf4n4g3pfee6491hc0brc4i.apps.googleusercontent.com&redirect_uri=urn%3aietf%3awg%3aoauth%3a2.0%3aoob&response_type=code&scope=email%20https%3a%2f%2fwww.googleapis.com%2fauth%2fdocs.test%20https%3a%2f%2fwww.googleapis.com%2fauth%2fdrive%20https%3a%2f%2fwww.googleapis.com%2fauth%2fdrive.photos.readonly%20https%3a%2f%2fwww.googleapis.com%2fauth%2fpeopleapi.readonly\n",
            "\n",
            "Enter your authorization code:\n",
            "··········\n",
            "Mounted at /content/gdrive\n"
          ],
          "name": "stdout"
        }
      ]
    },
    {
      "cell_type": "code",
      "metadata": {
        "id": "RNeCXBzHhgz3",
        "colab_type": "code",
        "outputId": "b59fee5f-e88f-46a1-e402-3063f87949c5",
        "colab": {
          "base_uri": "https://localhost:8080/",
          "height": 119
        }
      },
      "source": [
        "N = int(input())\n",
        "\n",
        "with open('./data/hightemp.txt', 'r') as fi:\n",
        "    for i in range(N):\n",
        "        print(fi.readline().strip())"
      ],
      "execution_count": 3,
      "outputs": [
        {
          "output_type": "stream",
          "text": [
            "5\n",
            "高知県\t江川崎\t41\t2013-08-12\n",
            "埼玉県\t熊谷\t40.9\t2007-08-16\n",
            "岐阜県\t多治見\t40.9\t2007-08-16\n",
            "山形県\t山形\t40.8\t1933-07-25\n",
            "山梨県\t甲府\t40.7\t2013-08-10\n"
          ],
          "name": "stdout"
        }
      ]
    },
    {
      "cell_type": "code",
      "metadata": {
        "id": "4CZkC15244i9",
        "colab_type": "code",
        "colab": {
          "base_uri": "https://localhost:8080/",
          "height": 119
        },
        "outputId": "416462ef-2666-4a7a-cc49-8ea0085aa8c8"
      },
      "source": [
        "with open('./data/hightemp.txt', 'r') as fi2:\n",
        "    lines = fi2.readlines()\n",
        "\n",
        "print(\"\".join(lines[:int(N)]))"
      ],
      "execution_count": 5,
      "outputs": [
        {
          "output_type": "stream",
          "text": [
            "高知県\t江川崎\t41\t2013-08-12\n",
            "埼玉県\t熊谷\t40.9\t2007-08-16\n",
            "岐阜県\t多治見\t40.9\t2007-08-16\n",
            "山形県\t山形\t40.8\t1933-07-25\n",
            "山梨県\t甲府\t40.7\t2013-08-10\n",
            "\n"
          ],
          "name": "stdout"
        }
      ]
    },
    {
      "cell_type": "code",
      "metadata": {
        "id": "LPD2tgUV23SW",
        "colab_type": "code",
        "outputId": "55f23c91-f818-4dca-887d-44b6812791a1",
        "colab": {
          "base_uri": "https://localhost:8080/",
          "height": 102
        }
      },
      "source": [
        "!head -5 ./data/hightemp.txt"
      ],
      "execution_count": 0,
      "outputs": [
        {
          "output_type": "stream",
          "text": [
            "高知県\t江川崎\t41\t2013-08-12\n",
            "埼玉県\t熊谷\t40.9\t2007-08-16\n",
            "岐阜県\t多治見\t40.9\t2007-08-16\n",
            "山形県\t山形\t40.8\t1933-07-25\n",
            "山梨県\t甲府\t40.7\t2013-08-10\n"
          ],
          "name": "stdout"
        }
      ]
    }
  ]
}